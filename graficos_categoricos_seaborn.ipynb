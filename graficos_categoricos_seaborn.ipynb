{
  "nbformat": 4,
  "nbformat_minor": 0,
  "metadata": {
    "colab": {
      "name": "grafi_bar_seaborn.ipynb",
      "provenance": [],
      "authorship_tag": "ABX9TyPyAzCgqdqm1Cb6tYC71id1",
      "include_colab_link": true
    },
    "kernelspec": {
      "name": "python3",
      "display_name": "Python 3"
    }
  },
  "cells": [
    {
      "cell_type": "markdown",
      "metadata": {
        "id": "view-in-github",
        "colab_type": "text"
      },
      "source": [
        "<a href=\"https://colab.research.google.com/github/gilissantos/Seaborn---Python/blob/master/graficos_categoricos_seaborn.ipynb\" target=\"_parent\"><img src=\"https://colab.research.google.com/assets/colab-badge.svg\" alt=\"Open In Colab\"/></a>"
      ]
    },
    {
      "cell_type": "markdown",
      "metadata": {
        "id": "5uBPs4hQH2uy",
        "colab_type": "text"
      },
      "source": [
        "<img align=\"left\" src=\"https://seaborn.pydata.org/_static/logo-wide-lightbg.svg\" width=\"160\">\n",
        "<img align=\"right\" src=\"https://www.python.org/static/img/psf-logo.png\" width=\"160\">\n",
        "<h1 align=\"center\">Gráficos com Seaborn</h1>\n",
        "<h4 align=\"center\">Como plotar gráficos com Seaborn</h4>\n",
        "\n",
        "<br>\n",
        "<br>\n",
        "<p>\n",
        "  A biblioteca Seaborn foi inplementada a partir da biblioteca Matplotlib, com uma interface de alto nível e mais atrativa para gerar gráficos estatísticos.\n",
        "  Para mais informações visite a página oficial <a href=\"https://seaborn.pydata.org/\">https://seaborn.pydata.org</a>. Sem mais blá blá, vamos ao código!\n",
        "</p>\n"
      ]
    },
    {
      "cell_type": "markdown",
      "metadata": {
        "id": "VyYxey28PAPI",
        "colab_type": "text"
      },
      "source": [
        "<h2>Gráficos categóricos</h2>\n"
      ]
    },
    {
      "cell_type": "markdown",
      "metadata": {
        "id": "RreZSiWJeRPf",
        "colab_type": "text"
      },
      "source": [
        "<h4>Gráfico de barras com uma categoria</h4>"
      ]
    },
    {
      "cell_type": "code",
      "metadata": {
        "id": "yvt7Ewc6TTQP",
        "colab_type": "code",
        "colab": {}
      },
      "source": [
        "#Importando as bibliotecas: Matplotlib, Pandas e Seaborn\n",
        "import pandas as pd\n",
        "import seaborn as sns\n",
        "import matplotlib.pyplot as plt"
      ],
      "execution_count": 30,
      "outputs": []
    },
    {
      "cell_type": "code",
      "metadata": {
        "id": "YXfmLzY-TcAI",
        "colab_type": "code",
        "colab": {
          "base_uri": "https://localhost:8080/",
          "height": 204
        },
        "outputId": "c845f420-7960-41f5-84df-7a0af36a34e0"
      },
      "source": [
        "# Criando o dataset, pode usar qualquier dataset de sua preferência: \n",
        "\n",
        "marcas = {\n",
        "    \"empresa\":[\"Amazon\", \"Google\", \"Apple\", \"Microsoft\", \"Samsung\"],\n",
        "    \"valor\":[221, 160, 141, 117, 94]\n",
        "}\n",
        "\n",
        "marcas = pd.DataFrame(marcas)\n",
        "\n",
        "marcas"
      ],
      "execution_count": 2,
      "outputs": [
        {
          "output_type": "execute_result",
          "data": {
            "text/html": [
              "<div>\n",
              "<style scoped>\n",
              "    .dataframe tbody tr th:only-of-type {\n",
              "        vertical-align: middle;\n",
              "    }\n",
              "\n",
              "    .dataframe tbody tr th {\n",
              "        vertical-align: top;\n",
              "    }\n",
              "\n",
              "    .dataframe thead th {\n",
              "        text-align: right;\n",
              "    }\n",
              "</style>\n",
              "<table border=\"1\" class=\"dataframe\">\n",
              "  <thead>\n",
              "    <tr style=\"text-align: right;\">\n",
              "      <th></th>\n",
              "      <th>empresa</th>\n",
              "      <th>valor</th>\n",
              "    </tr>\n",
              "  </thead>\n",
              "  <tbody>\n",
              "    <tr>\n",
              "      <th>0</th>\n",
              "      <td>Amazon</td>\n",
              "      <td>221</td>\n",
              "    </tr>\n",
              "    <tr>\n",
              "      <th>1</th>\n",
              "      <td>Google</td>\n",
              "      <td>160</td>\n",
              "    </tr>\n",
              "    <tr>\n",
              "      <th>2</th>\n",
              "      <td>Apple</td>\n",
              "      <td>141</td>\n",
              "    </tr>\n",
              "    <tr>\n",
              "      <th>3</th>\n",
              "      <td>Microsoft</td>\n",
              "      <td>117</td>\n",
              "    </tr>\n",
              "    <tr>\n",
              "      <th>4</th>\n",
              "      <td>Samsung</td>\n",
              "      <td>94</td>\n",
              "    </tr>\n",
              "  </tbody>\n",
              "</table>\n",
              "</div>"
            ],
            "text/plain": [
              "     empresa  valor\n",
              "0     Amazon    221\n",
              "1     Google    160\n",
              "2      Apple    141\n",
              "3  Microsoft    117\n",
              "4    Samsung     94"
            ]
          },
          "metadata": {
            "tags": []
          },
          "execution_count": 2
        }
      ]
    },
    {
      "cell_type": "code",
      "metadata": {
        "id": "zhCjNy4yWg5Z",
        "colab_type": "code",
        "colab": {
          "base_uri": "https://localhost:8080/",
          "height": 402
        },
        "outputId": "deb6ba8b-e758-4df5-9304-19c23b238d4d"
      },
      "source": [
        "plt.figure(figsize=(6,4))\n",
        "sns.catplot(x=\"empresa\", y=\"valor\", kind=\"bar\", data=marcas, color=\"lightblue\")\n",
        "plt.title(\"Marcas mais valiosas do Mundo\")\n",
        "plt.xlabel(\"Marcas\")\n",
        "plt.ylabel(\"Valor de mercado - Bihlões U$D\")\n",
        "plt.show()"
      ],
      "execution_count": 3,
      "outputs": [
        {
          "output_type": "display_data",
          "data": {
            "text/plain": [
              "<Figure size 432x288 with 0 Axes>"
            ]
          },
          "metadata": {
            "tags": []
          }
        },
        {
          "output_type": "display_data",
          "data": {
            "image/png": "[encoded data removed]",
            "text/plain": [
              "<Figure size 360x360 with 1 Axes>"
            ]
          },
          "metadata": {
            "tags": [],
            "needs_background": "light"
          }
        }
      ]
    },
    {
      "cell_type": "markdown",
      "metadata": {
        "id": "BCnrFaQveUTd",
        "colab_type": "text"
      },
      "source": [
        "<h4>Gráfico de barras com duas categorias</h4>\n",
        "\n",
        "<p>Neste exemplo vamos usar um dataset com duas categorias</p>"
      ]
    },
    {
      "cell_type": "code",
      "metadata": {
        "id": "1WFAMz4KjSui",
        "colab_type": "code",
        "colab": {
          "base_uri": "https://localhost:8080/",
          "height": 142
        },
        "outputId": "33ab5b31-0046-439c-9e24-b94b993a9533"
      },
      "source": [
        "# Criando o dataset de marcas mais valiosas e adicionando a variável categoria:\n",
        "\n",
        "marcas = {\n",
        "\t\t\"Empresa\": [\"Itaú\",\t\"Skol\",\t\"Magazine Luiza\"],\n",
        "\t\t\"Categoria\": [\"Financeira\",\t\"Bebidas\", \"Varejo\"],\n",
        "\t\t\"Valor\": [8268,\t6797,\t5111]\n",
        "}\n",
        "\n",
        "marcas = pd.DataFrame(marcas)\n",
        "\n",
        "marcas"
      ],
      "execution_count": 24,
      "outputs": [
        {
          "output_type": "execute_result",
          "data": {
            "text/html": [
              "<div>\n",
              "<style scoped>\n",
              "    .dataframe tbody tr th:only-of-type {\n",
              "        vertical-align: middle;\n",
              "    }\n",
              "\n",
              "    .dataframe tbody tr th {\n",
              "        vertical-align: top;\n",
              "    }\n",
              "\n",
              "    .dataframe thead th {\n",
              "        text-align: right;\n",
              "    }\n",
              "</style>\n",
              "<table border=\"1\" class=\"dataframe\">\n",
              "  <thead>\n",
              "    <tr style=\"text-align: right;\">\n",
              "      <th></th>\n",
              "      <th>Empresa</th>\n",
              "      <th>Categoria</th>\n",
              "      <th>Valor</th>\n",
              "    </tr>\n",
              "  </thead>\n",
              "  <tbody>\n",
              "    <tr>\n",
              "      <th>0</th>\n",
              "      <td>Itaú</td>\n",
              "      <td>Financeira</td>\n",
              "      <td>8268</td>\n",
              "    </tr>\n",
              "    <tr>\n",
              "      <th>1</th>\n",
              "      <td>Skol</td>\n",
              "      <td>Bebidas</td>\n",
              "      <td>6797</td>\n",
              "    </tr>\n",
              "    <tr>\n",
              "      <th>2</th>\n",
              "      <td>Magazine Luiza</td>\n",
              "      <td>Varejo</td>\n",
              "      <td>5111</td>\n",
              "    </tr>\n",
              "  </tbody>\n",
              "</table>\n",
              "</div>"
            ],
            "text/plain": [
              "          Empresa   Categoria  Valor\n",
              "0            Itaú  Financeira   8268\n",
              "1            Skol     Bebidas   6797\n",
              "2  Magazine Luiza      Varejo   5111"
            ]
          },
          "metadata": {
            "tags": []
          },
          "execution_count": 24
        }
      ]
    },
    {
      "cell_type": "code",
      "metadata": {
        "id": "-NlENG3uiwqX",
        "colab_type": "code",
        "colab": {
          "base_uri": "https://localhost:8080/",
          "height": 386
        },
        "outputId": "1418db91-7306-4205-d8cb-682640457a56"
      },
      "source": [
        "plt.figure(figsize=(20,10))\n",
        "sns.catplot(x=\"Empresa\", y=\"Valor\", hue=\"Categoria\", kind=\"bar\", data=marcas)\n",
        "plt.show()"
      ],
      "execution_count": 26,
      "outputs": [
        {
          "output_type": "display_data",
          "data": {
            "text/plain": [
              "<Figure size 1440x720 with 0 Axes>"
            ]
          },
          "metadata": {
            "tags": []
          }
        },
        {
          "output_type": "display_data",
          "data": {
            "image/png": "[encoded data removed]",
            "text/plain": [
              "<Figure size 447.5x360 with 1 Axes>"
            ]
          },
          "metadata": {
            "tags": [],
            "needs_background": "light"
          }
        }
      ]
    },
    {
      "cell_type": "markdown",
      "metadata": {
        "id": "Kl9Jy28cUBXn",
        "colab_type": "text"
      },
      "source": [
        "<h4>Gráfico de barras com a função countplot</4>\n",
        "<p>\n",
        "Com a função countplot() é possível contar a quantidade de eventos/dados de uma mesma variável sem a necessidade de criar uma nova variuável e adcionar em um dataset.\n",
        "</p>"
      ]
    },
    {
      "cell_type": "code",
      "metadata": {
        "id": "vnMqvCSbVbUm",
        "colab_type": "code",
        "colab": {
          "base_uri": "https://localhost:8080/",
          "height": 359
        },
        "outputId": "79e12321-8f60-43b0-9562-1c2a8f72df06"
      },
      "source": [
        "# Criando o dataset:\n",
        "\n",
        "marcas = {\n",
        "  \"Empresa\": [\"Itaú\",\t\"Skol\",\t\"Bradesco\",\t\"Magazine Luiza\",\t\"Brahma\",\t\"Globo\",\t\"Antarctica\",\t\"Renner\",\t\"Amil\",\t\"Sadia\"],\n",
        "  \"Categoria\": [\"Financeira\",\t\"Bebidas\",\t\"Financeira\",\t\"Varejo\",\t\"Bebidas\",\t\"Canais de TV\",\t\"Bebidas\",\t\"Varejo\",\t\"Saúde\",\t\"Alimentos\"],\n",
        "  \"Valor\": [8268,\t6797,\t6137,\t5111,\t3720,\t3295,\t2558,\t2273,\t2050,\t1637]\n",
        "        }\n",
        "\n",
        "marcas = pd.DataFrame(marcas)\n",
        "\n",
        "\n",
        "marcas\n"
      ],
      "execution_count": 38,
      "outputs": [
        {
          "output_type": "execute_result",
          "data": {
            "text/html": [
              "<div>\n",
              "<style scoped>\n",
              "    .dataframe tbody tr th:only-of-type {\n",
              "        vertical-align: middle;\n",
              "    }\n",
              "\n",
              "    .dataframe tbody tr th {\n",
              "        vertical-align: top;\n",
              "    }\n",
              "\n",
              "    .dataframe thead th {\n",
              "        text-align: right;\n",
              "    }\n",
              "</style>\n",
              "<table border=\"1\" class=\"dataframe\">\n",
              "  <thead>\n",
              "    <tr style=\"text-align: right;\">\n",
              "      <th></th>\n",
              "      <th>Empresa</th>\n",
              "      <th>Categoria</th>\n",
              "      <th>Valor</th>\n",
              "    </tr>\n",
              "  </thead>\n",
              "  <tbody>\n",
              "    <tr>\n",
              "      <th>0</th>\n",
              "      <td>Itaú</td>\n",
              "      <td>Financeira</td>\n",
              "      <td>8268</td>\n",
              "    </tr>\n",
              "    <tr>\n",
              "      <th>1</th>\n",
              "      <td>Skol</td>\n",
              "      <td>Bebidas</td>\n",
              "      <td>6797</td>\n",
              "    </tr>\n",
              "    <tr>\n",
              "      <th>2</th>\n",
              "      <td>Bradesco</td>\n",
              "      <td>Financeira</td>\n",
              "      <td>6137</td>\n",
              "    </tr>\n",
              "    <tr>\n",
              "      <th>3</th>\n",
              "      <td>Magazine Luiza</td>\n",
              "      <td>Varejo</td>\n",
              "      <td>5111</td>\n",
              "    </tr>\n",
              "    <tr>\n",
              "      <th>4</th>\n",
              "      <td>Brahma</td>\n",
              "      <td>Bebidas</td>\n",
              "      <td>3720</td>\n",
              "    </tr>\n",
              "    <tr>\n",
              "      <th>5</th>\n",
              "      <td>Globo</td>\n",
              "      <td>Canais de TV</td>\n",
              "      <td>3295</td>\n",
              "    </tr>\n",
              "    <tr>\n",
              "      <th>6</th>\n",
              "      <td>Antarctica</td>\n",
              "      <td>Bebidas</td>\n",
              "      <td>2558</td>\n",
              "    </tr>\n",
              "    <tr>\n",
              "      <th>7</th>\n",
              "      <td>Renner</td>\n",
              "      <td>Varejo</td>\n",
              "      <td>2273</td>\n",
              "    </tr>\n",
              "    <tr>\n",
              "      <th>8</th>\n",
              "      <td>Amil</td>\n",
              "      <td>Saúde</td>\n",
              "      <td>2050</td>\n",
              "    </tr>\n",
              "    <tr>\n",
              "      <th>9</th>\n",
              "      <td>Sadia</td>\n",
              "      <td>Alimentos</td>\n",
              "      <td>1637</td>\n",
              "    </tr>\n",
              "  </tbody>\n",
              "</table>\n",
              "</div>"
            ],
            "text/plain": [
              "          Empresa     Categoria  Valor\n",
              "0            Itaú    Financeira   8268\n",
              "1            Skol       Bebidas   6797\n",
              "2        Bradesco    Financeira   6137\n",
              "3  Magazine Luiza        Varejo   5111\n",
              "4          Brahma       Bebidas   3720\n",
              "5           Globo  Canais de TV   3295\n",
              "6      Antarctica       Bebidas   2558\n",
              "7          Renner        Varejo   2273\n",
              "8            Amil         Saúde   2050\n",
              "9           Sadia     Alimentos   1637"
            ]
          },
          "metadata": {
            "tags": []
          },
          "execution_count": 38
        }
      ]
    },
    {
      "cell_type": "code",
      "metadata": {
        "id": "86DQg-bEV-Ed",
        "colab_type": "code",
        "colab": {
          "base_uri": "https://localhost:8080/",
          "height": 295
        },
        "outputId": "5337aacb-acef-43d1-cd4a-e930dce21285"
      },
      "source": [
        "plt.figure(figsize=(6,4))\n",
        "sns.countplot(x=\"Categoria\", data=marcas, palette=\"Blues\")\n",
        "plt.title(\"Segmentos mais valiosos do Brasil\")\n",
        "plt.xlabel(\"Segmento\")\n",
        "plt.ylabel(\"Quantidade\")\n",
        "plt.show()\n",
        "\n",
        "\n",
        "# Verificando a quantidade de empresas categorizadas como Bebidas notamos que são 3 no total seguidas de 2 empresas no ramo de financeira, 2 no varejo, 1 para TV, 1 Alimentos e 1 Saúde."
      ],
      "execution_count": 47,
      "outputs": [
        {
          "output_type": "display_data",
          "data": {
            "image/png": "[encoded data removed]",
            "text/plain": [
              "<Figure size 432x288 with 1 Axes>"
            ]
          },
          "metadata": {
            "tags": [],
            "needs_background": "light"
          }
        }
      ]
    }
  ]
}